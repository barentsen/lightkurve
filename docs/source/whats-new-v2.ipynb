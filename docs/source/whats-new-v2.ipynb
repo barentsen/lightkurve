{
 "cells": [
  {
   "cell_type": "markdown",
   "id": "informational-tiffany",
   "metadata": {},
   "source": [
    "# What's new in Lightkurve v2.0?"
   ]
  },
  {
   "cell_type": "markdown",
   "id": "aerial-mentor",
   "metadata": {},
   "source": [
    "## Overview\n",
    "\n",
    "### Making Lightkurve more generic\n",
    "\n",
    "Lightkurve v1.0 has been a tremendous success!  Owing to the efforts of 67 contributors, Lightkurve grew into a popular tool to analyze the data archive of NASA's Kepler space telescope.  To date, the toolkit has been cited or mentioned by nearly [200 scientific publications](https://ui.adsabs.harvard.edu/search/q=full%3A\"Lightkurve\").\n",
    "\n",
    "In recent years, the success revealed a shortcoming: Lightkurve v1.0 was too narrowly focused on supporting official Kepler data products alone. Over the past two years, the Kepler user community has evolved in a number of important ways:\n",
    "\n",
    "1. NASA successfully launched the TESS mission, adding a significant new data set which requires Lightkurve-like tools.\n",
    "2. The data archive at MAST started hosting numerous community-created light curve databases extracted from Kepler and TESS.\n",
    "3. Several new time series photometry missions are on the horizon, including ESA's Plato and NASA's Roman Space Telescope.\n",
    "\n",
    "In light of these evolutions, there is a need for Lightkurve's tools to become more generically applicable to different data sets.\n",
    "\n",
    "\n",
    "### `LightCurve` is now a sub-class of AstroPy's `TimeSeries` object\n",
    "\n",
    "Recently, the AstroPy project added a fantastic new [astropy.timeseries](https://docs.astropy.org/en/stable/timeseries/) sub-package to support the analysis of generic time series data sets.\n",
    "A decision has been made to transform Lightkurve's `LightCurve` object into a sub-class of AstroPy's `TimeSeries` object. This allows Lightkurve to build upon this generic, table-like data structure provided by AstroPy and focus more strongly on providing features that are specific to time resolved CCD photometry.\n",
    "\n",
    "Three major benefits of this change are:\n",
    "\n",
    "1. `LightCurve` objects can now contain arbitrary data columns (e.g. fluxes obtained using different methods).\n",
    "2. Multiple light curve data formats are now supported via the generic `LightCurve.read()` and `LightCurve.write()` methods, which extend AstroPy's `Table.read()` and `Table.write()` functions.\n",
    "3. `LightCurve` objects now leverage AstroPy `Time` objects to store the `time` column and AstroPy `Quantity` objects for all other columns. This enables us to support different time formats and data units in a generic way.\n",
    "\n",
    "\n",
    "\n",
    "### How does Lightkurve's `LightCurve` differ from AstroPy's `TimeSeries`?\n",
    "\n",
    "A `TimeSeries` object is a table which is guaranteed to have a special `time` column, which is always the first column and guaranteed to be an AstroPy `Time` object. `LightCurve` extends this concept by also adding special `flux` and `flux_err` columns, which are always the second and third column.  These dedicated columns enable us to provide extra methods which are specific to the manipulation of brightness data obtained by imaging photometry.  Some of these methods may eventually be migrated to `TimeSeries` if they are sufficiently generic and mature, but many methods that are specific Kepler/TESS-like data sets will likely remain in `LightCurve` to avoid overwhelming AstroPy with mission-specific details.\n",
    " "
   ]
  },
  {
   "cell_type": "markdown",
   "id": "anonymous-relief",
   "metadata": {},
   "source": [
    "## Full change log\n",
    "\n",
    "To see a detailed list of all changes, please see the [Full Changelog]()."
   ]
  },
  {
   "cell_type": "markdown",
   "id": "satellite-liberty",
   "metadata": {},
   "source": [
    "## Contributors to the v2.0 release\n",
    "\n",
    "People who have contributed to this release include:\n",
    "..."
   ]
  },
  {
   "cell_type": "code",
   "execution_count": 7,
   "id": "documentary-forth",
   "metadata": {},
   "outputs": [
    {
     "ename": "SyntaxError",
     "evalue": "invalid syntax (<ipython-input-7-22813cdfddc2>, line 3)",
     "output_type": "error",
     "traceback": [
      "\u001b[0;36m  File \u001b[0;32m\"<ipython-input-7-22813cdfddc2>\"\u001b[0;36m, line \u001b[0;32m3\u001b[0m\n\u001b[0;31m    https://colab.research.google.com/drive/1YA7Jni9ekzmOglg3qRs_tOnBXnFSJtjq?usp=sharing\u001b[0m\n\u001b[0m          ^\u001b[0m\n\u001b[0;31mSyntaxError\u001b[0m\u001b[0;31m:\u001b[0m invalid syntax\n"
     ]
    }
   ],
   "source": [
    "\n",
    "\n",
    "### Demo\n",
    "\n",
    "https://colab.research.google.com/drive/1YA7Jni9ekzmOglg3qRs_tOnBXnFSJtjq?usp=sharing\n",
    "\n",
    "\n",
    "\n",
    "### Will existing Lightkurve code break?\n",
    "\n",
    "While we try to maintain a high degree of backwards compatibility with Lightkurve v1.x, it looks like nine API changes are unavoidable:\n",
    "1. **lc.time is now always an Astropy Time object.**  Unfortunately, `Time` objects cannot be passed to many numpy/scipy functions, you typically have to pass `lc.time.value` instead.\n",
    "2. **All other columns are now Astropy Quantity objects.** Most numpy/scipy functions can deal with these, but you will nevertheless have to use `lc.flux.value` at times.\n",
    "3. **All metadata is now stored in the lc.meta dictionary**, including all FITS header values.  For convenience, we support attribute access, e.g. `lc.sector` resolves to `lc.meta['sector']`, but the use of the latter is encouraged because not every light curve will have a sector keyword.\n",
    "4. **LightCurveFile classes have been removed.** Instead, files must now be loaded using `lightkurve.read(filename, flux_column=\"pdcsap_flux\", quality_bitmask=\"default\")`.\n",
    "5. **lc.time can no longer contain NaN values**.  This is not allowed by `Time` objects. As a result, `lk.read()` will always ignore rows with `time=NaN`.  Other columns can still have NaNs however.\n",
    "6. **lc.bin() now takes time_bin_size and time_bin_start arguments.** This is for consistency with `astropy.timeseries.aggregate_downsample`. This significantly alters the behavior of binning, because bins are now defined in time instead of by number of data points.\n",
    "7. **lc.fold() now returns un-normalized phase values by default.**  This is for consistency with `TimeSeries.fold()`. For the same reason, the `t0` argument has been deprecated in favor of `epoch_time`, and the method now accepts the extra `epoch_phase`, `wrap_phase`, and `normalize_phase` arguments.\n",
    "8. **lc.append() no longer supports inplace=True.**  This allows us to implement append via a simple call to `astropy.table.vstack`.\n",
    "9. **Several attributes and methods have been deprecated.**  They still work but will yield a warning and may be removed in the future:\n",
    "  * `lc.astropy_time` => `lc.time`\n",
    "  * `lc.time_format` => `lc.time.format`\n",
    "  * `lc.time_scale` => `lc.time.scale`\n",
    "  * `lc.flux_quantity` => `lc.flux`\n",
    "  * `lc.flux_unit` => `lc.flux.unit`\n",
    "  * `lc.to_table()` => `lc`\n",
    "  * `lc.to_timeseries()` => `lc`\n",
    "  * `search_lightcurvefile()` => `search_lightcurve()`\n",
    "\n",
    "## How do I install Lightkurve v2.0?\n",
    "Alternatively, you can install this branch using pip as follows:\n",
    "```\n",
    "pip install --quiet --upgrade git+https://github.com/barentsen/lightkurve.git@timeseries-refactor\n",
    "```"
   ]
  },
  {
   "cell_type": "code",
   "execution_count": null,
   "id": "public-sewing",
   "metadata": {},
   "outputs": [],
   "source": []
  }
 ],
 "metadata": {
  "kernelspec": {
   "display_name": "Python 3",
   "language": "python",
   "name": "python3"
  },
  "language_info": {
   "codemirror_mode": {
    "name": "ipython",
    "version": 3
   },
   "file_extension": ".py",
   "mimetype": "text/x-python",
   "name": "python",
   "nbconvert_exporter": "python",
   "pygments_lexer": "ipython3",
   "version": "3.8.6"
  }
 },
 "nbformat": 4,
 "nbformat_minor": 5
}
